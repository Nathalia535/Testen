{
 "cells": [
  {
   "cell_type": "markdown",
   "id": "87d19f0e-516f-4f58-9ea1-524929f17ea1",
   "metadata": {},
   "source": [
    "# Data Science Tools and Ecosystem"
   ]
  },
  {
   "cell_type": "markdown",
   "id": "d9648742-234e-4032-bd70-3480d2a17ad0",
   "metadata": {},
   "source": [
    "In this notebook, Data Science Tools and Ecosystem are summarized."
   ]
  },
  {
   "cell_type": "markdown",
   "id": "9b683cfe-4676-4efe-a577-00316ba8525c",
   "metadata": {},
   "source": [
    "**Objectives:**\n",
    "\n",
    "* 1- Identify the popular languages that Data Scientists use\n",
    "* 2- Identify the commonly used libraries used by Data Scientists\n",
    "* 3- Show examples of evaluating arithmetic expressions in Python"
   ]
  },
  {
   "cell_type": "markdown",
   "id": "8af5b43a-19a3-4198-84b5-1b244e69819f",
   "metadata": {},
   "source": [
    "Some of the popular languages that Data Scientists use are:\n",
    "\n",
    "* 1- Python\n",
    "* 2- R\n",
    "* 3- SQL\n",
    "* 4- Julia \n",
    "* 5- JavaScript\n"
   ]
  },
  {
   "cell_type": "markdown",
   "id": "749dd28e-4602-4631-809e-29c20dd34875",
   "metadata": {},
   "source": []
  },
  {
   "cell_type": "markdown",
   "id": "d9797ed3-d4f5-4608-8f31-99ff8b841db7",
   "metadata": {},
   "source": [
    "Some of the commonly used libraries used by Data Scientists include:\n",
    "\n",
    "* 1- NumPy\n",
    "* 2- Pandas\n",
    "* 3- Scikit-learn\n",
    "  "
   ]
  },
  {
   "cell_type": "code",
   "execution_count": null,
   "id": "fb01f1e7-c17f-4fbe-a7cf-34bef2d2656f",
   "metadata": {},
   "outputs": [],
   "source": []
  },
  {
   "cell_type": "markdown",
   "id": "cd698225-3f8d-4f3e-afa3-4ca09c89874c",
   "metadata": {},
   "source": [
    "\n",
    "| Data Science Tools | |\n",
    "| ------------- | ------- |\n",
    "| Apache Spark | |\n",
    "| Scrapy     |  |\n",
    "| Spyder       |  |\n"
   ]
  },
  {
   "cell_type": "code",
   "execution_count": null,
   "id": "1e868de8-675b-4d4e-8da5-c2f1f55169f3",
   "metadata": {},
   "outputs": [],
   "source": []
  },
  {
   "cell_type": "markdown",
   "id": "47a09cdf-104a-4ba0-9506-bb9037d184de",
   "metadata": {},
   "source": [
    "### Below are a few examples of evaluating arithmetic expressions in Python"
   ]
  },
  {
   "cell_type": "code",
   "execution_count": null,
   "id": "2bca642a-06db-493c-b492-432d231c0464",
   "metadata": {},
   "outputs": [],
   "source": []
  },
  {
   "cell_type": "code",
   "execution_count": 50,
   "id": "696667d8-b283-4fc9-8fd6-ee8e4798431e",
   "metadata": {
    "scrolled": true
   },
   "outputs": [
    {
     "data": {
      "text/plain": [
       "17"
      ]
     },
     "execution_count": 50,
     "metadata": {},
     "output_type": "execute_result"
    }
   ],
   "source": [
    "#  This a simple arithmetic expression to multiply then add integers\n",
    "(3*4)+5"
   ]
  },
  {
   "cell_type": "code",
   "execution_count": 52,
   "id": "6a5a432a-b942-4f38-a6bf-6a6b9eabde45",
   "metadata": {},
   "outputs": [
    {
     "data": {
      "text/plain": [
       "3.3333333333333335"
      ]
     },
     "execution_count": 52,
     "metadata": {},
     "output_type": "execute_result"
    }
   ],
   "source": [
    "# This will convert 200 minutes to hours by diving by 60\n",
    "200/60"
   ]
  },
  {
   "cell_type": "markdown",
   "id": "cd9de795-ab19-474d-8302-07e68221650c",
   "metadata": {},
   "source": [
    "\n",
    "\n",
    "\n",
    "## Author\n",
    "Nathalia Santana"
   ]
  }
 ],
 "metadata": {
  "kernelspec": {
   "display_name": "anaconda-2024.02-py310",
   "language": "python",
   "name": "conda-env-anaconda-2024.02-py310-py"
  },
  "language_info": {
   "codemirror_mode": {
    "name": "ipython",
    "version": 3
   },
   "file_extension": ".py",
   "mimetype": "text/x-python",
   "name": "python",
   "nbconvert_exporter": "python",
   "pygments_lexer": "ipython3",
   "version": "3.10.14"
  }
 },
 "nbformat": 4,
 "nbformat_minor": 5
}
